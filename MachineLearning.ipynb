{
 "cells": [
  {
   "cell_type": "code",
   "execution_count": 1,
   "metadata": {},
   "outputs": [],
   "source": [
    "import pandas as pd\n",
    "import numpy as np\n",
    "import matplotlib.pyplot as plt\n",
    "import seaborn as sns\n",
    "import time\n",
    "\n",
    "%matplotlib inline\n",
    "pd.options.display.max_rows = 1000"
   ]
  },
  {
   "cell_type": "code",
   "execution_count": 2,
   "metadata": {},
   "outputs": [],
   "source": [
    "ldf = pd.read_csv('./train_test_result/train.csv')"
   ]
  },
  {
   "cell_type": "code",
   "execution_count": 3,
   "metadata": {},
   "outputs": [
    {
     "data": {
      "text/html": [
       "<div>\n",
       "<style scoped>\n",
       "    .dataframe tbody tr th:only-of-type {\n",
       "        vertical-align: middle;\n",
       "    }\n",
       "\n",
       "    .dataframe tbody tr th {\n",
       "        vertical-align: top;\n",
       "    }\n",
       "\n",
       "    .dataframe thead th {\n",
       "        text-align: right;\n",
       "    }\n",
       "</style>\n",
       "<table border=\"1\" class=\"dataframe\">\n",
       "  <thead>\n",
       "    <tr style=\"text-align: right;\">\n",
       "      <th></th>\n",
       "      <th>Unnamed: 0</th>\n",
       "      <th>Gender</th>\n",
       "      <th>Married</th>\n",
       "      <th>Dependents</th>\n",
       "      <th>Education</th>\n",
       "      <th>Self_Employed</th>\n",
       "      <th>ApplicantIncome</th>\n",
       "      <th>CoapplicantIncome</th>\n",
       "      <th>Num_of_Borrowers</th>\n",
       "      <th>LoanAmount</th>\n",
       "      <th>Loan_Amount_Term</th>\n",
       "      <th>Credit_History</th>\n",
       "      <th>Property_Area</th>\n",
       "      <th>Loan_Status</th>\n",
       "    </tr>\n",
       "  </thead>\n",
       "  <tbody>\n",
       "    <tr>\n",
       "      <th>0</th>\n",
       "      <td>0</td>\n",
       "      <td>Male</td>\n",
       "      <td>No</td>\n",
       "      <td>0</td>\n",
       "      <td>Graduate</td>\n",
       "      <td>No</td>\n",
       "      <td>5849</td>\n",
       "      <td>0.0</td>\n",
       "      <td>1</td>\n",
       "      <td>149.297043</td>\n",
       "      <td>360.0</td>\n",
       "      <td>1.0</td>\n",
       "      <td>Urban</td>\n",
       "      <td>Y</td>\n",
       "    </tr>\n",
       "    <tr>\n",
       "      <th>1</th>\n",
       "      <td>1</td>\n",
       "      <td>Male</td>\n",
       "      <td>Yes</td>\n",
       "      <td>1</td>\n",
       "      <td>Graduate</td>\n",
       "      <td>No</td>\n",
       "      <td>4583</td>\n",
       "      <td>1508.0</td>\n",
       "      <td>2</td>\n",
       "      <td>128.000000</td>\n",
       "      <td>360.0</td>\n",
       "      <td>1.0</td>\n",
       "      <td>Rural</td>\n",
       "      <td>N</td>\n",
       "    </tr>\n",
       "    <tr>\n",
       "      <th>2</th>\n",
       "      <td>2</td>\n",
       "      <td>Male</td>\n",
       "      <td>Yes</td>\n",
       "      <td>0</td>\n",
       "      <td>Graduate</td>\n",
       "      <td>Yes</td>\n",
       "      <td>3000</td>\n",
       "      <td>0.0</td>\n",
       "      <td>1</td>\n",
       "      <td>66.000000</td>\n",
       "      <td>360.0</td>\n",
       "      <td>1.0</td>\n",
       "      <td>Urban</td>\n",
       "      <td>Y</td>\n",
       "    </tr>\n",
       "    <tr>\n",
       "      <th>3</th>\n",
       "      <td>3</td>\n",
       "      <td>Male</td>\n",
       "      <td>Yes</td>\n",
       "      <td>0</td>\n",
       "      <td>Not Graduate</td>\n",
       "      <td>No</td>\n",
       "      <td>2583</td>\n",
       "      <td>2358.0</td>\n",
       "      <td>2</td>\n",
       "      <td>120.000000</td>\n",
       "      <td>360.0</td>\n",
       "      <td>1.0</td>\n",
       "      <td>Urban</td>\n",
       "      <td>Y</td>\n",
       "    </tr>\n",
       "    <tr>\n",
       "      <th>4</th>\n",
       "      <td>4</td>\n",
       "      <td>Male</td>\n",
       "      <td>No</td>\n",
       "      <td>0</td>\n",
       "      <td>Graduate</td>\n",
       "      <td>No</td>\n",
       "      <td>6000</td>\n",
       "      <td>0.0</td>\n",
       "      <td>1</td>\n",
       "      <td>141.000000</td>\n",
       "      <td>360.0</td>\n",
       "      <td>1.0</td>\n",
       "      <td>Urban</td>\n",
       "      <td>Y</td>\n",
       "    </tr>\n",
       "  </tbody>\n",
       "</table>\n",
       "</div>"
      ],
      "text/plain": [
       "   Unnamed: 0 Gender Married Dependents     Education Self_Employed  \\\n",
       "0           0   Male      No          0      Graduate            No   \n",
       "1           1   Male     Yes          1      Graduate            No   \n",
       "2           2   Male     Yes          0      Graduate           Yes   \n",
       "3           3   Male     Yes          0  Not Graduate            No   \n",
       "4           4   Male      No          0      Graduate            No   \n",
       "\n",
       "   ApplicantIncome  CoapplicantIncome  Num_of_Borrowers  LoanAmount  \\\n",
       "0             5849                0.0                 1  149.297043   \n",
       "1             4583             1508.0                 2  128.000000   \n",
       "2             3000                0.0                 1   66.000000   \n",
       "3             2583             2358.0                 2  120.000000   \n",
       "4             6000                0.0                 1  141.000000   \n",
       "\n",
       "   Loan_Amount_Term  Credit_History Property_Area Loan_Status  \n",
       "0             360.0             1.0         Urban           Y  \n",
       "1             360.0             1.0         Rural           N  \n",
       "2             360.0             1.0         Urban           Y  \n",
       "3             360.0             1.0         Urban           Y  \n",
       "4             360.0             1.0         Urban           Y  "
      ]
     },
     "execution_count": 3,
     "metadata": {},
     "output_type": "execute_result"
    }
   ],
   "source": [
    "ldf.head()"
   ]
  },
  {
   "cell_type": "code",
   "execution_count": 4,
   "metadata": {},
   "outputs": [],
   "source": [
    "ldf.drop(['Unnamed: 0'], axis=1, inplace=True)\n",
    "ldf.iloc[:, [5,6,7,8,9,10]] = ldf.iloc[:, [5,6,7,8,9,10]].astype('int64')"
   ]
  },
  {
   "cell_type": "code",
   "execution_count": 5,
   "metadata": {},
   "outputs": [
    {
     "name": "stdout",
     "output_type": "stream",
     "text": [
      "<class 'pandas.core.frame.DataFrame'>\n",
      "RangeIndex: 614 entries, 0 to 613\n",
      "Data columns (total 13 columns):\n",
      " #   Column             Non-Null Count  Dtype \n",
      "---  ------             --------------  ----- \n",
      " 0   Gender             614 non-null    object\n",
      " 1   Married            614 non-null    object\n",
      " 2   Dependents         614 non-null    object\n",
      " 3   Education          614 non-null    object\n",
      " 4   Self_Employed      614 non-null    object\n",
      " 5   ApplicantIncome    614 non-null    int64 \n",
      " 6   CoapplicantIncome  614 non-null    int64 \n",
      " 7   Num_of_Borrowers   614 non-null    int64 \n",
      " 8   LoanAmount         614 non-null    int64 \n",
      " 9   Loan_Amount_Term   614 non-null    int64 \n",
      " 10  Credit_History     614 non-null    int64 \n",
      " 11  Property_Area      614 non-null    object\n",
      " 12  Loan_Status        614 non-null    object\n",
      "dtypes: int64(6), object(7)\n",
      "memory usage: 62.5+ KB\n"
     ]
    }
   ],
   "source": [
    "ldf.info()"
   ]
  },
  {
   "cell_type": "code",
   "execution_count": 6,
   "metadata": {},
   "outputs": [
    {
     "data": {
      "text/html": [
       "<div>\n",
       "<style scoped>\n",
       "    .dataframe tbody tr th:only-of-type {\n",
       "        vertical-align: middle;\n",
       "    }\n",
       "\n",
       "    .dataframe tbody tr th {\n",
       "        vertical-align: top;\n",
       "    }\n",
       "\n",
       "    .dataframe thead th {\n",
       "        text-align: right;\n",
       "    }\n",
       "</style>\n",
       "<table border=\"1\" class=\"dataframe\">\n",
       "  <thead>\n",
       "    <tr style=\"text-align: right;\">\n",
       "      <th></th>\n",
       "      <th>ApplicantIncome</th>\n",
       "      <th>CoapplicantIncome</th>\n",
       "      <th>Num_of_Borrowers</th>\n",
       "      <th>LoanAmount</th>\n",
       "      <th>Loan_Amount_Term</th>\n",
       "      <th>Credit_History</th>\n",
       "    </tr>\n",
       "  </thead>\n",
       "  <tbody>\n",
       "    <tr>\n",
       "      <th>count</th>\n",
       "      <td>614.000000</td>\n",
       "      <td>614.00000</td>\n",
       "      <td>614.000000</td>\n",
       "      <td>614.000000</td>\n",
       "      <td>614.000000</td>\n",
       "      <td>614.000000</td>\n",
       "    </tr>\n",
       "    <tr>\n",
       "      <th>mean</th>\n",
       "      <td>5403.459283</td>\n",
       "      <td>1621.24430</td>\n",
       "      <td>1.555375</td>\n",
       "      <td>146.151466</td>\n",
       "      <td>336.508143</td>\n",
       "      <td>0.855049</td>\n",
       "    </tr>\n",
       "    <tr>\n",
       "      <th>std</th>\n",
       "      <td>6109.041673</td>\n",
       "      <td>2926.24876</td>\n",
       "      <td>0.497329</td>\n",
       "      <td>84.092865</td>\n",
       "      <td>74.842580</td>\n",
       "      <td>0.352339</td>\n",
       "    </tr>\n",
       "    <tr>\n",
       "      <th>min</th>\n",
       "      <td>150.000000</td>\n",
       "      <td>0.00000</td>\n",
       "      <td>1.000000</td>\n",
       "      <td>9.000000</td>\n",
       "      <td>12.000000</td>\n",
       "      <td>0.000000</td>\n",
       "    </tr>\n",
       "    <tr>\n",
       "      <th>25%</th>\n",
       "      <td>2877.500000</td>\n",
       "      <td>0.00000</td>\n",
       "      <td>1.000000</td>\n",
       "      <td>100.250000</td>\n",
       "      <td>360.000000</td>\n",
       "      <td>1.000000</td>\n",
       "    </tr>\n",
       "    <tr>\n",
       "      <th>50%</th>\n",
       "      <td>3812.500000</td>\n",
       "      <td>1188.50000</td>\n",
       "      <td>2.000000</td>\n",
       "      <td>128.000000</td>\n",
       "      <td>360.000000</td>\n",
       "      <td>1.000000</td>\n",
       "    </tr>\n",
       "    <tr>\n",
       "      <th>75%</th>\n",
       "      <td>5795.000000</td>\n",
       "      <td>2297.25000</td>\n",
       "      <td>2.000000</td>\n",
       "      <td>164.750000</td>\n",
       "      <td>360.000000</td>\n",
       "      <td>1.000000</td>\n",
       "    </tr>\n",
       "    <tr>\n",
       "      <th>max</th>\n",
       "      <td>81000.000000</td>\n",
       "      <td>41667.00000</td>\n",
       "      <td>2.000000</td>\n",
       "      <td>700.000000</td>\n",
       "      <td>480.000000</td>\n",
       "      <td>1.000000</td>\n",
       "    </tr>\n",
       "  </tbody>\n",
       "</table>\n",
       "</div>"
      ],
      "text/plain": [
       "       ApplicantIncome  CoapplicantIncome  Num_of_Borrowers  LoanAmount  \\\n",
       "count       614.000000          614.00000        614.000000  614.000000   \n",
       "mean       5403.459283         1621.24430          1.555375  146.151466   \n",
       "std        6109.041673         2926.24876          0.497329   84.092865   \n",
       "min         150.000000            0.00000          1.000000    9.000000   \n",
       "25%        2877.500000            0.00000          1.000000  100.250000   \n",
       "50%        3812.500000         1188.50000          2.000000  128.000000   \n",
       "75%        5795.000000         2297.25000          2.000000  164.750000   \n",
       "max       81000.000000        41667.00000          2.000000  700.000000   \n",
       "\n",
       "       Loan_Amount_Term  Credit_History  \n",
       "count        614.000000      614.000000  \n",
       "mean         336.508143        0.855049  \n",
       "std           74.842580        0.352339  \n",
       "min           12.000000        0.000000  \n",
       "25%          360.000000        1.000000  \n",
       "50%          360.000000        1.000000  \n",
       "75%          360.000000        1.000000  \n",
       "max          480.000000        1.000000  "
      ]
     },
     "execution_count": 6,
     "metadata": {},
     "output_type": "execute_result"
    }
   ],
   "source": [
    "ldf.describe()"
   ]
  },
  {
   "cell_type": "markdown",
   "metadata": {},
   "source": [
    "### Distplots"
   ]
  },
  {
   "cell_type": "code",
   "execution_count": 7,
   "metadata": {},
   "outputs": [
    {
     "data": {
      "text/plain": [
       "Text(0.5, 1.0, 'Loan Status: Y (Loan Amount Term)')"
      ]
     },
     "execution_count": 7,
     "metadata": {},
     "output_type": "execute_result"
    },
    {
     "data": {
      "image/png": "[encoded data removed]",
      "text/plain": [
       "<Figure size 1728x288 with 4 Axes>"
      ]
     },
     "metadata": {
      "needs_background": "light"
     },
     "output_type": "display_data"
    }
   ],
   "source": [
    "fig, axes = plt.subplots(nrows=1, ncols=4,figsize=(24, 4))\n",
    "\n",
    "ax = sns.distplot(ldf[ldf['Loan_Status']=='Y'].ApplicantIncome, bins = 20, ax = axes[0], kde = False)\n",
    "ax.set_title('Loan Status: Y (Applicant Income)')\n",
    "ax = sns.distplot(ldf[ldf['Loan_Status']=='Y'].CoapplicantIncome, bins = 20, ax = axes[1], kde = False)\n",
    "ax.set_title('Loan Status: Y (Co-Applicant Income)')\n",
    "ax = sns.distplot(ldf[ldf['Loan_Status']=='Y'].LoanAmount, bins = 20, ax = axes[2], kde = False)\n",
    "ax.set_title('Loan Status: Y (Loan Amount)')\n",
    "ax = sns.distplot(ldf[ldf['Loan_Status']=='Y'].Loan_Amount_Term, bins = 20, ax = axes[3], kde = False)\n",
    "ax.set_title('Loan Status: Y (Loan Amount Term)')"
   ]
  },
  {
   "cell_type": "code",
   "execution_count": 8,
   "metadata": {},
   "outputs": [
    {
     "data": {
      "text/plain": [
       "Text(0.5, 1.0, 'Loan Status: N (Loan Amount Term)')"
      ]
     },
     "execution_count": 8,
     "metadata": {},
     "output_type": "execute_result"
    },
    {
     "data": {
      "image/png": "[encoded data removed]",
      "text/plain": [
       "<Figure size 1728x288 with 4 Axes>"
      ]
     },
     "metadata": {
      "needs_background": "light"
     },
     "output_type": "display_data"
    }
   ],
   "source": [
    "fig, axes = plt.subplots(nrows=1, ncols=4,figsize=(24, 4))\n",
    "\n",
    "ax = sns.distplot(ldf[ldf['Loan_Status']=='N'].ApplicantIncome, bins = 20, ax = axes[0], kde = False)\n",
    "ax.set_title('Loan Status: N (Applicant Income)')\n",
    "ax = sns.distplot(ldf[ldf['Loan_Status']=='N'].CoapplicantIncome, bins = 20, ax = axes[1], kde = False)\n",
    "ax.set_title('Loan Status: N (Co-Applicant Income)')\n",
    "ax = sns.distplot(ldf[ldf['Loan_Status']=='N'].LoanAmount, bins = 20, ax = axes[2], kde = False)\n",
    "ax.set_title('Loan Status: N (Loan Amount)')\n",
    "ax = sns.distplot(ldf[ldf['Loan_Status']=='N'].Loan_Amount_Term, bins = 20, ax = axes[3], kde = False)\n",
    "ax.set_title('Loan Status: N (Loan Amount Term)')"
   ]
  },
  {
   "cell_type": "markdown",
   "metadata": {},
   "source": [
    "### Applicant and Co-applicant Income coordinates for each Loan Status"
   ]
  },
  {
   "cell_type": "code",
   "execution_count": 9,
   "metadata": {},
   "outputs": [
    {
     "data": {
      "text/plain": [
       "Text(0.5, 1, 'Income coordinates')"
      ]
     },
     "execution_count": 9,
     "metadata": {},
     "output_type": "execute_result"
    },
    {
     "data": {
      "image/png": "[encoded data removed]",
      "text/plain": [
       "<Figure size 932.75x432 with 1 Axes>"
      ]
     },
     "metadata": {
      "needs_background": "light"
     },
     "output_type": "display_data"
    }
   ],
   "source": [
    "sns.lmplot(x='ApplicantIncome', y='CoapplicantIncome', data=ldf, hue='Loan_Status', fit_reg=False, palette='coolwarm', height=6, aspect=2)\n",
    "plt.title('Income coordinates')"
   ]
  },
  {
   "cell_type": "markdown",
   "metadata": {},
   "source": [
    "### Heatmap correlation between the numrical data"
   ]
  },
  {
   "cell_type": "code",
   "execution_count": 10,
   "metadata": {},
   "outputs": [
    {
     "data": {
      "text/plain": [
       "Text(0.5, 1, 'Loan Rejected')"
      ]
     },
     "execution_count": 10,
     "metadata": {},
     "output_type": "execute_result"
    },
    {
     "data": {
      "image/png": "[encoded data removed]",
      "text/plain": [
       "<Figure size 1600x400 with 4 Axes>"
      ]
     },
     "metadata": {
      "needs_background": "light"
     },
     "output_type": "display_data"
    }
   ],
   "source": [
    "fig, axes = plt.subplots(nrows=1, ncols=2,figsize=(16, 4))\n",
    "fig.set_dpi(100)\n",
    "ax = sns.heatmap(ldf[ldf['Loan_Status']=='Y'][['ApplicantIncome', 'CoapplicantIncome', 'LoanAmount', 'Loan_Amount_Term']].corr(),\n",
    "                 ax = axes[0], cmap='coolwarm')\n",
    "ax.set_title('Loan Approved')\n",
    "ax = sns.heatmap(ldf[ldf['Loan_Status']=='N'][['ApplicantIncome', 'CoapplicantIncome', 'LoanAmount', 'Loan_Amount_Term']].corr(),\n",
    "                 ax = axes[1], cmap='coolwarm')\n",
    "ax.set_title('Loan Rejected')"
   ]
  },
  {
   "cell_type": "markdown",
   "metadata": {},
   "source": [
    "### Creating a new dataframe without outliers"
   ]
  },
  {
   "cell_type": "code",
   "execution_count": 11,
   "metadata": {},
   "outputs": [
    {
     "name": "stdout",
     "output_type": "stream",
     "text": [
      "614\n",
      "535\n"
     ]
    }
   ],
   "source": [
    "df = ldf[(ldf['ApplicantIncome']<=10172) & (ldf['CoapplicantIncome']<=5743) & (ldf['LoanAmount']<=262)]\n",
    "print(len(ldf))\n",
    "print(len(df))"
   ]
  },
  {
   "cell_type": "markdown",
   "metadata": {},
   "source": [
    "### Importing packages"
   ]
  },
  {
   "cell_type": "code",
   "execution_count": 12,
   "metadata": {},
   "outputs": [],
   "source": [
    "from sklearn.model_selection import cross_val_score, train_test_split, GridSearchCV\n",
    "from sklearn.decomposition import PCA\n",
    "from sklearn.preprocessing import OneHotEncoder,LabelEncoder, Normalizer\n",
    "from sklearn.compose import ColumnTransformer\n",
    "from sklearn.ensemble import RandomForestClassifier\n",
    "from xgboost import XGBClassifier\n",
    "from sklearn.svm import SVC\n",
    "from sklearn.linear_model import LogisticRegression\n",
    "from sklearn.metrics import confusion_matrix, precision_score, accuracy_score"
   ]
  },
  {
   "cell_type": "markdown",
   "metadata": {},
   "source": [
    "### Setting X features and y label"
   ]
  },
  {
   "cell_type": "code",
   "execution_count": 13,
   "metadata": {},
   "outputs": [],
   "source": [
    "X = df.iloc[:, :-1].values\n",
    "y= df.iloc[:, -1].values"
   ]
  },
  {
   "cell_type": "markdown",
   "metadata": {},
   "source": [
    "### Encoding the independent categorical features"
   ]
  },
  {
   "cell_type": "code",
   "execution_count": 14,
   "metadata": {},
   "outputs": [],
   "source": [
    "ct = ColumnTransformer(transformers=[('encoder', OneHotEncoder(), [0,1,2,3,4,10,11])], remainder='passthrough')\n",
    "X = np.array(ct.fit_transform(X))"
   ]
  },
  {
   "cell_type": "markdown",
   "metadata": {},
   "source": [
    "### Encoding the dependent variable"
   ]
  },
  {
   "cell_type": "code",
   "execution_count": 15,
   "metadata": {},
   "outputs": [],
   "source": [
    "le = LabelEncoder()\n",
    "y = le.fit_transform(y)"
   ]
  },
  {
   "cell_type": "markdown",
   "metadata": {},
   "source": [
    "### Train, Test split"
   ]
  },
  {
   "cell_type": "code",
   "execution_count": 16,
   "metadata": {},
   "outputs": [],
   "source": [
    "X_train, X_test,  y_train, y_test = train_test_split(X, y, test_size=0.3, random_state=42)"
   ]
  },
  {
   "cell_type": "markdown",
   "metadata": {},
   "source": [
    "### Feature scaling using normilization"
   ]
  },
  {
   "cell_type": "code",
   "execution_count": 17,
   "metadata": {},
   "outputs": [],
   "source": [
    "nc = Normalizer()\n",
    "X_train[:, 17:22] = nc.fit_transform(X_train[:, 17:22])\n",
    "X_test[:, 17:22] = nc.transform(X_test[:, 17:22])"
   ]
  },
  {
   "cell_type": "markdown",
   "metadata": {},
   "source": [
    "### Dimension reduction using principle component analysis (PCA)"
   ]
  },
  {
   "cell_type": "code",
   "execution_count": 18,
   "metadata": {},
   "outputs": [],
   "source": [
    "pca = PCA(n_components=2)\n",
    "train_comp = pca.fit_transform(X_train[:, 17:22])\n",
    "test_comp = pca.transform(X_test[:, 17:22])\n",
    "\n",
    "train_comp= pd.DataFrame(train_comp)\n",
    "train_comp.rename({0: 'PCA_1', 1: 'PCA_2'}, axis=1, inplace = True)\n",
    "\n",
    "X_train = pd.concat((pd.DataFrame(X_train), train_comp), axis=1)\n",
    "\n",
    "test_comp= pd.DataFrame(test_comp)\n",
    "test_comp.rename({0: 'PCA_1', 1: 'PCA_2'}, axis=1, inplace = True)\n",
    "\n",
    "X_test = pd.concat((pd.DataFrame(X_test), test_comp), axis=1)"
   ]
  },
  {
   "cell_type": "code",
   "execution_count": 19,
   "metadata": {},
   "outputs": [],
   "source": [
    "X_train.drop([17,18,19,20,21], axis=1, inplace=True)\n",
    "X_train=np.array(X_train)\n",
    "X_test.drop([17,18,19,20,21], axis=1, inplace=True)\n",
    "X_test=np.array(X_test)"
   ]
  },
  {
   "cell_type": "code",
   "execution_count": 20,
   "metadata": {},
   "outputs": [
    {
     "name": "stdout",
     "output_type": "stream",
     "text": [
      "(374, 19)\n",
      "(161, 19)\n"
     ]
    }
   ],
   "source": [
    "print(X_train.shape)\n",
    "print(X_test.shape)"
   ]
  },
  {
   "cell_type": "markdown",
   "metadata": {},
   "source": [
    "### Model Training & Testing"
   ]
  },
  {
   "cell_type": "markdown",
   "metadata": {},
   "source": [
    "#### Functions"
   ]
  },
  {
   "cell_type": "code",
   "execution_count": 21,
   "metadata": {},
   "outputs": [],
   "source": [
    "def cross_score(model, idenpendent_feats, dependent_feat,scoring, cv):\n",
    "    training_start = time.perf_counter()\n",
    "    accuracy = np.mean(cross_val_score(model, X=idenpendent_feats, y=dependent_feat, scoring=scoring, cv=cv))\n",
    "    training_end = time.perf_counter()\n",
    "    train_time = training_end-training_start\n",
    "    return accuracy, train_time"
   ]
  },
  {
   "cell_type": "code",
   "execution_count": 22,
   "metadata": {},
   "outputs": [],
   "source": [
    "def best_hyper_params(model,idenpendent_feats, dependent_feat, params, scoring, cv):\n",
    "    search = GridSearchCV(model, param_grid=params, scoring=scoring, cv=cv, n_jobs=-1)\n",
    "    search_start = time.perf_counter()\n",
    "    search.fit(idenpendent_feats, dependent_feat)\n",
    "    search_end = time.perf_counter()\n",
    "    best_find = search.best_estimator_\n",
    "    best_score = search.best_score_\n",
    "    search_time = search_end - search_start\n",
    "    return best_find, best_score, search_time"
   ]
  },
  {
   "cell_type": "code",
   "execution_count": 23,
   "metadata": {},
   "outputs": [],
   "source": [
    "def model_performance(model, test_features, test_label):\n",
    "    y_pred = model.predict(test_features)\n",
    "    conf_matrix = confusion_matrix(y_true=test_label, y_pred=y_pred)\n",
    "    accuracy = accuracy_score(y_true=test_label, y_pred=y_pred)\n",
    "    precision = precision_score(y_true=test_label, y_pred=y_pred)\n",
    "    return conf_matrix, accuracy, precision"
   ]
  },
  {
   "cell_type": "markdown",
   "metadata": {},
   "source": [
    "#### Model Building"
   ]
  },
  {
   "cell_type": "markdown",
   "metadata": {},
   "source": [
    "##### RandomForest Classifier"
   ]
  },
  {
   "cell_type": "code",
   "execution_count": 24,
   "metadata": {},
   "outputs": [],
   "source": [
    "rfc = RandomForestClassifier(random_state=1)"
   ]
  },
  {
   "cell_type": "code",
   "execution_count": 25,
   "metadata": {},
   "outputs": [
    {
     "name": "stdout",
     "output_type": "stream",
     "text": [
      "Average score on training set: 0.8045822102425876\n",
      "Time: 2.1354328000000002\n"
     ]
    }
   ],
   "source": [
    "train_accuracy, train_time = cross_score(rfc, X_train, y_train, 'accuracy', 7)\n",
    "print(\"Average score on training set: \" + str(train_accuracy))\n",
    "print(\"Time: \" + str(train_time))"
   ]
  },
  {
   "cell_type": "code",
   "execution_count": 26,
   "metadata": {},
   "outputs": [
    {
     "name": "stdout",
     "output_type": "stream",
     "text": [
      "Best Random Forest params are:  RandomForestClassifier(bootstrap=True, ccp_alpha=0.0, class_weight=None,\n",
      "                       criterion='gini', max_depth=7, max_features='auto',\n",
      "                       max_leaf_nodes=None, max_samples=None,\n",
      "                       min_impurity_decrease=0.0, min_impurity_split=None,\n",
      "                       min_samples_leaf=5, min_samples_split=2,\n",
      "                       min_weight_fraction_leaf=0.0, n_estimators=150,\n",
      "                       n_jobs=None, oob_score=False, random_state=1, verbose=0,\n",
      "                       warm_start=False)\n",
      "Best Random Forest params score is: 0.8208817204301075\n",
      "Search time: 106.29580999999999\n"
     ]
    }
   ],
   "source": [
    "rfc_params = [{'n_estimators': range(50,250,100), 'max_depth': (4,7,10), 'min_samples_split': (2,4,6,8),\n",
    "               'min_samples_leaf': (5,10,15,20), 'max_features': ('auto','log2'), 'ccp_alpha': (0.0, 0.005, 0.01)}]\n",
    "rfc_best_params, rfc_best_score, search_time = best_hyper_params(rfc, X_train, y_train, rfc_params, 'accuracy', 3)\n",
    "print(\"Best Random Forest params are: \" , rfc_best_params)\n",
    "print(\"Best Random Forest params score is: \" + str(rfc_best_score))\n",
    "print(\"Search time: \" + str(search_time))"
   ]
  },
  {
   "cell_type": "code",
   "execution_count": 27,
   "metadata": {},
   "outputs": [
    {
     "name": "stdout",
     "output_type": "stream",
     "text": [
      "[[ 25  26]\n",
      " [  0 110]]\n",
      "Random Forest prediction score: 0.8385093167701864\n",
      "Random Forest precision Score: 0.8088235294117647\n"
     ]
    }
   ],
   "source": [
    "rfc_cm, rfc_pred_accuracy, rfc_precision = model_performance(rfc_best_params, X_test, y_test)\n",
    "print(rfc_cm)\n",
    "print(\"Random Forest prediction score: \" + str(rfc_pred_accuracy))\n",
    "print(\"Random Forest precision Score: \" + str(rfc_precision))"
   ]
  },
  {
   "cell_type": "markdown",
   "metadata": {},
   "source": [
    "##### XGBoost Classifier"
   ]
  },
  {
   "cell_type": "code",
   "execution_count": 28,
   "metadata": {},
   "outputs": [],
   "source": [
    "xg = XGBClassifier(random_state=2)"
   ]
  },
  {
   "cell_type": "code",
   "execution_count": 29,
   "metadata": {},
   "outputs": [
    {
     "name": "stdout",
     "output_type": "stream",
     "text": [
      "Average score on training set: 0.7806229410002995\n",
      "Time: 0.6183769999999811\n"
     ]
    }
   ],
   "source": [
    "train_accuracy, train_time = cross_score(xg, X_train, y_train, 'accuracy', 7)\n",
    "print(\"Average score on training set: \" + str(train_accuracy))\n",
    "print(\"Time: \" + str(train_time))"
   ]
  },
  {
   "cell_type": "code",
   "execution_count": 30,
   "metadata": {},
   "outputs": [
    {
     "name": "stdout",
     "output_type": "stream",
     "text": [
      "Best XGBoost params are:  XGBClassifier(base_score=0.5, booster='gbtree', colsample_bylevel=1,\n",
      "              colsample_bynode=1, colsample_bytree=1, gamma=0.5, gpu_id=-1,\n",
      "              importance_type='gain', interaction_constraints='',\n",
      "              learning_rate=0.005, max_delta_step=0, max_depth=6,\n",
      "              min_child_weight=1, missing=nan, monotone_constraints='()',\n",
      "              n_estimators=300, n_jobs=0, num_parallel_tree=1,\n",
      "              objective='binary:logistic', random_state=2, reg_alpha=0,\n",
      "              reg_lambda=1, scale_pos_weight=1, subsample=1,\n",
      "              tree_method='exact', validate_parameters=1, verbosity=None)\n",
      "Best XGBoost params score is: 0.8181505376344086\n",
      "Search time: 422.59792460000006\n"
     ]
    }
   ],
   "source": [
    "xg_params = [{'max_depth': range(3,12,3), 'learning_rate':(0.1,0.05,0.01,0.005), 'n_estimators':range(100,1000,100), 'gamma':(0,0.1,0.5,1),\n",
    "              'reg_alpha':(0,0.01,0.005,0.001) }]\n",
    "xg_best_params, xg_best_score, search_time = best_hyper_params(xg, X_train, y_train, xg_params, 'accuracy', 3)\n",
    "print(\"Best XGBoost params are: \" , xg_best_params)\n",
    "print(\"Best XGBoost params score is: \" + str(xg_best_score))\n",
    "print(\"Search time: \" + str(search_time))"
   ]
  },
  {
   "cell_type": "code",
   "execution_count": 31,
   "metadata": {},
   "outputs": [
    {
     "name": "stdout",
     "output_type": "stream",
     "text": [
      "[[ 27  24]\n",
      " [  3 107]]\n",
      "XGBoost prediction score: 0.8322981366459627\n",
      "XGBoost precision Score: 0.816793893129771\n"
     ]
    }
   ],
   "source": [
    "xg_cm, xg_pred_accuracy, xg_precision = model_performance(xg_best_params, X_test, y_test)\n",
    "print(xg_cm)\n",
    "print(\"XGBoost prediction score: \" + str(xg_pred_accuracy))\n",
    "print(\"XGBoost precision Score: \" + str(xg_precision))"
   ]
  },
  {
   "cell_type": "markdown",
   "metadata": {},
   "source": [
    "##### Support Vector Machine"
   ]
  },
  {
   "cell_type": "code",
   "execution_count": 32,
   "metadata": {},
   "outputs": [],
   "source": [
    "svc = SVC(random_state=3)"
   ]
  },
  {
   "cell_type": "code",
   "execution_count": 33,
   "metadata": {},
   "outputs": [
    {
     "name": "stdout",
     "output_type": "stream",
     "text": [
      "Average score on training set: 0.8154338549075391\n",
      "Time: 0.062233799999944495\n"
     ]
    }
   ],
   "source": [
    "train_accuracy, train_time = cross_score(svc, X_train, y_train, 'accuracy', 10)\n",
    "print(\"Average score on training set: \" + str(train_accuracy))\n",
    "print(\"Time: \" + str(train_time))"
   ]
  },
  {
   "cell_type": "code",
   "execution_count": 34,
   "metadata": {},
   "outputs": [
    {
     "name": "stdout",
     "output_type": "stream",
     "text": [
      "Best SVC params are:  SVC(C=0.1, break_ties=False, cache_size=200, class_weight=None, coef0=0.0,\n",
      "    decision_function_shape='ovr', degree=3, gamma='scale', kernel='poly',\n",
      "    max_iter=-1, probability=False, random_state=3, shrinking=True, tol=0.001,\n",
      "    verbose=False)\n",
      "Best SVC params score is: 0.8155483870967742\n",
      "Search time: 1.1478886000001012\n"
     ]
    }
   ],
   "source": [
    "svc_params = [{'C':(0.1, 0.5, 1.0, 3.0, 6.0), 'kernel': ('poly', 'rbf', 'sigmoid'), 'degree':range(3,12,3), 'gamma':('scale', 'auto'), 'coef0':(0.0, 0.1, 0.5, 0.7)}]\n",
    "svc_best_params, svc_best_score, search_time = best_hyper_params(svc, X_train, y_train, svc_params, 'accuracy', 3)\n",
    "print(\"Best SVC params are: \" , svc_best_params)\n",
    "print(\"Best SVC params score is: \" + str(svc_best_score))\n",
    "print(\"Search time: \" + str(search_time))"
   ]
  },
  {
   "cell_type": "code",
   "execution_count": 35,
   "metadata": {},
   "outputs": [
    {
     "name": "stdout",
     "output_type": "stream",
     "text": [
      "[[ 25  26]\n",
      " [  0 110]]\n",
      "SVC prediction score: 0.8385093167701864\n",
      "SVC precision Score: 0.8088235294117647\n"
     ]
    }
   ],
   "source": [
    "svc_cm, svc_pred_accuracy, svc_precision = model_performance(svc_best_params, X_test, y_test)\n",
    "print(svc_cm)\n",
    "print(\"SVC prediction score: \" + str(svc_pred_accuracy))\n",
    "print(\"SVC precision Score: \" + str(svc_precision))"
   ]
  },
  {
   "cell_type": "markdown",
   "metadata": {},
   "source": [
    "##### Logistic Regression"
   ]
  },
  {
   "cell_type": "code",
   "execution_count": 36,
   "metadata": {},
   "outputs": [],
   "source": [
    "lrc = LogisticRegression(random_state=4)"
   ]
  },
  {
   "cell_type": "code",
   "execution_count": 37,
   "metadata": {},
   "outputs": [
    {
     "name": "stdout",
     "output_type": "stream",
     "text": [
      "Average score on training set: 0.8154338549075391\n",
      "Time: 0.07092639999996209\n"
     ]
    }
   ],
   "source": [
    "train_accuracy, train_time = cross_score(lrc, X_train, y_train, 'accuracy', 10)\n",
    "print(\"Average score on training set: \" + str(train_accuracy))\n",
    "print(\"Time: \" + str(train_time))"
   ]
  },
  {
   "cell_type": "code",
   "execution_count": 39,
   "metadata": {},
   "outputs": [
    {
     "data": {
      "text/plain": [
       "LogisticRegression(C=1.0, class_weight=None, dual=False, fit_intercept=True,\n",
       "                   intercept_scaling=1, l1_ratio=None, max_iter=100,\n",
       "                   multi_class='auto', n_jobs=None, penalty='l2',\n",
       "                   random_state=4, solver='lbfgs', tol=0.0001, verbose=0,\n",
       "                   warm_start=False)"
      ]
     },
     "execution_count": 39,
     "metadata": {},
     "output_type": "execute_result"
    }
   ],
   "source": [
    "lrc.fit(X_train, y_train)"
   ]
  },
  {
   "cell_type": "code",
   "execution_count": 40,
   "metadata": {},
   "outputs": [
    {
     "name": "stdout",
     "output_type": "stream",
     "text": [
      "[[ 25  26]\n",
      " [  0 110]]\n",
      "Logistic Regression score: 0.8385093167701864\n",
      "Logistic Regression precision Score: 0.8088235294117647\n"
     ]
    }
   ],
   "source": [
    "lrc_cm, lrc_pred_accuracy, lrc_precision = model_performance(lrc, X_test, y_test)\n",
    "print(lrc_cm)\n",
    "print(\"Logistic Regression score: \" + str(lrc_pred_accuracy))\n",
    "print(\"Logistic Regression precision Score: \" + str(lrc_precision))"
   ]
  }
 ],
 "metadata": {
  "kernelspec": {
   "display_name": "Python 3",
   "language": "python",
   "name": "python3"
  },
  "language_info": {
   "codemirror_mode": {
    "name": "ipython",
    "version": 3
   },
   "file_extension": ".py",
   "mimetype": "text/x-python",
   "name": "python",
   "nbconvert_exporter": "python",
   "pygments_lexer": "ipython3",
   "version": "3.7.6"
  }
 },
 "nbformat": 4,
 "nbformat_minor": 4
}
